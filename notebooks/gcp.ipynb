{
 "cells": [
  {
   "cell_type": "code",
   "execution_count": 1,
   "id": "82f02071-6e51-4ae8-a2b2-0dbf7dcb648f",
   "metadata": {},
   "outputs": [],
   "source": [
    "# Importando as bibliotecas necessárias da diagrams\n",
    "from diagrams import Diagram, Cluster, Edge\n",
    "from diagrams.gcp.analytics import Bigquery, Dataflow, Composer\n",
    "from diagrams.gcp.compute import Functions\n",
    "from diagrams.gcp.storage import Storage\n",
    "from diagrams.custom import Custom\n",
    "from diagrams.gcp.ml import AIPlatform, Automl\n",
    "\n",
    "\n",
    "\n",
    "# https://googlecloudcheatsheet.withgoogle.com/\n"
   ]
  },
  {
   "cell_type": "markdown",
   "id": "a27ee4de-8bbb-43f1-a058-1844c60b7a60",
   "metadata": {},
   "source": [
    "### Título\n",
    "\n",
    "- https://lookerstudio.google.com/u/0/reporting/2fbd4f65-175c-4499-b439-670d8df1ee62/page/p_t7ko9hf6kd?s=lkZ9R3OE6TA\n",
    "\n",
    "Descrição da Arquitetura"
   ]
  },
  {
   "cell_type": "code",
   "execution_count": 2,
   "id": "97338e51-5215-460b-b0da-ff8ce08c18e9",
   "metadata": {},
   "outputs": [
    {
     "ename": "TypeError",
     "evalue": "Custom.__init__() missing 1 required positional argument: 'icon_path'",
     "output_type": "error",
     "traceback": [
      "\u001b[0;31m---------------------------------------------------------------------------\u001b[0m",
      "\u001b[0;31mTypeError\u001b[0m                                 Traceback (most recent call last)",
      "Cell \u001b[0;32mIn[2], line 15\u001b[0m\n\u001b[1;32m     13\u001b[0m \u001b[38;5;28;01mwith\u001b[39;00m Cluster(\u001b[38;5;124m\"\u001b[39m\u001b[38;5;124mAI/ML\u001b[39m\u001b[38;5;124m\"\u001b[39m):\n\u001b[1;32m     14\u001b[0m     document_aiS \u001b[38;5;241m=\u001b[39m Custom(\u001b[38;5;124m\"\u001b[39m\u001b[38;5;124mDocument AI\u001b[39m\u001b[38;5;124m\"\u001b[39m, \u001b[38;5;124m\"\u001b[39m\u001b[38;5;124m../assets/google-cloud-icons/document_ai/document_ai.png\u001b[39m\u001b[38;5;124m\"\u001b[39m)\n\u001b[0;32m---> 15\u001b[0m     ai_platform \u001b[38;5;241m=\u001b[39m \u001b[43mCustom\u001b[49m\u001b[43m(\u001b[49m\u001b[38;5;124;43m\"\u001b[39;49m\u001b[38;5;124;43mAIPlatform\u001b[39;49m\u001b[38;5;124;43m\"\u001b[39;49m\u001b[43m)\u001b[49m\n\u001b[1;32m     16\u001b[0m     automl \u001b[38;5;241m=\u001b[39m Automl(\u001b[38;5;124m\"\u001b[39m\u001b[38;5;124mAutoml\u001b[39m\u001b[38;5;124m\"\u001b[39m)\n\u001b[1;32m     18\u001b[0m \u001b[38;5;28;01mwith\u001b[39;00m Cluster(\u001b[38;5;124m\"\u001b[39m\u001b[38;5;124mData Analytics\u001b[39m\u001b[38;5;124m\"\u001b[39m):        \n",
      "\u001b[0;31mTypeError\u001b[0m: Custom.__init__() missing 1 required positional argument: 'icon_path'"
     ]
    }
   ],
   "source": [
    "title = \"GCP All\"\n",
    "filename = \"../output/gcp-all\"\n",
    "\n",
    "# Criando o diagrama\n",
    "with Diagram(title, \n",
    "             outformat=[\"png\"],\n",
    "             filename=filename,\n",
    "             direction=\"LR\",\n",
    "             show=False) as diag:\n",
    "    with Cluster(\"Platform\"):        \n",
    "        \n",
    "        # Cluster para agrupar os componentes relacionados ao processamento de dados\n",
    "        with Cluster(\"AI/ML\"):\n",
    "            document_aiS = Custom(\"Document AI\", \"../assets/google-cloud-icons/document_ai/document_ai.png\")\n",
    "            ai_platform = Custom(\"AIPlatform\")\n",
    "            automl = Automl(\"Automl\")\n",
    "\n",
    "        with Cluster(\"Data Analytics\"):        \n",
    "            dataflow = Dataflow(\"Dataflow\")\n",
    "            # Repositório central BigQuery\n",
    "            bigquery = Bigquery(\"BigQuery\")\n",
    "\n",
    "            data_fusion = Custom(\"Cloud Data Fusion\", \"../assets/google-cloud-icons/cloud_data_fusion/cloud_data_fusion.png\")         \n",
    "\n",
    "            # Orquestração com Pub/Sub\n",
    "            pubsub = Custom(\"Cloud Pub/Sub\", \"../assets/google-cloud-icons/pubsub/pubsub.png\")\n",
    "\n",
    "        with Cluster(\"Data Orquestration\"):        \n",
    "            \n",
    "           # Orquestração de workflows com Cloud Composer\n",
    "            composer = Composer(\"Cloud Composer\")  \n",
    "        \n",
    "        with Cluster(\"API Platform\"):        \n",
    "    \n",
    "            # Integração de sistemas com Apigee\n",
    "            apigee = Custom(\"Apigee\", \"../assets/google-cloud-icons/apigee_api_platform/apigee_api_platform.png\")\n",
    "    \n",
    "        with Cluster(\"Compute\"):        \n",
    "            # Automação com Cloud Functions\n",
    "            cloud_func = Functions(\"Cloud Functions\")\n",
    "    \n",
    "        with Cluster(\"Data Visualization\"):        \n",
    "            # Dashboards com Looker\n",
    "            looker = Custom(\"Looker\", \"../assets/google-cloud-icons/looker/looker.png\")            \n",
    "    \n",
    "        # Cluster para agrupar os componentes de Machine Learning\n",
    "        with Cluster(\"Machine Learning\") as ml:\n",
    "            ai_platform =  Custom(\"AI Platform\", \"../assets/google-cloud-icons/ai_platform/ai_platform.png\")\n",
    "            automl = Custom(\"AutoML\", \"../assets/google-cloud-icons/automl/automl.png\")    \n",
    "        dialogflow = Custom(\"Dialogflow\", \"../assets/google-cloud-icons/dialogflow/dialogflow.png\") \n",
    "diag"
   ]
  },
  {
   "cell_type": "code",
   "execution_count": null,
   "id": "fac62e46-7e8f-4a71-a76e-90d6550024b4",
   "metadata": {},
   "outputs": [],
   "source": []
  }
 ],
 "metadata": {
  "kernelspec": {
   "display_name": "Python 3 (ipykernel)",
   "language": "python",
   "name": "python3"
  },
  "language_info": {
   "codemirror_mode": {
    "name": "ipython",
    "version": 3
   },
   "file_extension": ".py",
   "mimetype": "text/x-python",
   "name": "python",
   "nbconvert_exporter": "python",
   "pygments_lexer": "ipython3",
   "version": "3.10.12"
  }
 },
 "nbformat": 4,
 "nbformat_minor": 5
}
